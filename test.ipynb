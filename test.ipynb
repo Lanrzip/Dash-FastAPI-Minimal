{
 "cells": [
  {
   "cell_type": "code",
   "execution_count": 1,
   "metadata": {},
   "outputs": [],
   "source": [
    "def css_to_dash_style(css):\n",
    "    import re\n",
    "\n",
    "    # Initialize the style dictionary\n",
    "    style_dict = {}\n",
    "    \n",
    "    # Define a regex pattern for CSS properties\n",
    "    pattern = re.compile(r'([a-zA-Z-]+)\\s*:\\s*([^;]+);?')\n",
    "    \n",
    "    # Process the CSS string\n",
    "    matches = pattern.findall(css)\n",
    "    \n",
    "    for match in matches:\n",
    "        property_name, value = match\n",
    "        # Convert the CSS property name to camelCase\n",
    "        property_name = re.sub(r'-(.)', lambda x: x.group(1).upper(), property_name)\n",
    "        style_dict[property_name] = value.strip()\n",
    "    \n",
    "    return style_dict"
   ]
  },
  {
   "cell_type": "code",
   "execution_count": 2,
   "metadata": {},
   "outputs": [
    {
     "name": "stdout",
     "output_type": "stream",
     "text": [
      "{'margin': '0px', 'fontFamily': '\"Public Sans Variable\", -apple-system, BlinkMacSystemFont, \"Segoe UI\", Roboto, \"Helvetica Neue\", Arial, sans-serif, \"Apple Color Emoji\", \"Segoe UI Emoji\", \"Segoe UI Symbol\"', 'fontWeight': '700', 'fontSize': '0.75rem', 'lineHeight': '1.5', 'textTransform': 'uppercase', 'color': 'var(--palette-text-secondary)'}\n"
     ]
    }
   ],
   "source": [
    "css = \"\"\"\n",
    "    margin: 0px;\n",
    "    font-family: \"Public Sans Variable\", -apple-system, BlinkMacSystemFont, \"Segoe UI\", Roboto, \"Helvetica Neue\", Arial, sans-serif, \"Apple Color Emoji\", \"Segoe UI Emoji\", \"Segoe UI Symbol\";\n",
    "    font-weight: 700;\n",
    "    font-size: 1.5rem;\n",
    "    line-height: 1.5;\n",
    "    text-transform: uppercase;\n",
    "    color: var(--palette-text-secondary);\n",
    "\"\"\"\n",
    "\n",
    "dash_style = css_to_dash_style(css)\n",
    "print(dash_style)"
   ]
  },
  {
   "cell_type": "code",
   "execution_count": null,
   "metadata": {},
   "outputs": [],
   "source": []
  }
 ],
 "metadata": {
  "kernelspec": {
   "display_name": "dash-fastapi",
   "language": "python",
   "name": "python3"
  },
  "language_info": {
   "codemirror_mode": {
    "name": "ipython",
    "version": 3
   },
   "file_extension": ".py",
   "mimetype": "text/x-python",
   "name": "python",
   "nbconvert_exporter": "python",
   "pygments_lexer": "ipython3",
   "version": "3.8.19"
  }
 },
 "nbformat": 4,
 "nbformat_minor": 2
}
